{
 "cells": [
  {
   "cell_type": "markdown",
   "id": "75f1a3f2-ff73-4238-acce-6d05539a63b4",
   "metadata": {},
   "source": [
    "# Linear Regression"
   ]
  },
  {
   "cell_type": "code",
   "execution_count": 43,
   "id": "e259c184-9ec1-4bc5-b0d0-f5779cbda809",
   "metadata": {},
   "outputs": [],
   "source": [
    "import pandas as pd\n",
    "import matplotlib.pyplot as plt\n",
    "import numpy as np"
   ]
  },
  {
   "cell_type": "markdown",
   "id": "dd8f3edb-a466-4ff1-9177-326d5eeede9b",
   "metadata": {},
   "source": [
    "#### Dataframe содержит информацию о поездках в такси. Целевая переменная -- total_amount"
   ]
  },
  {
   "cell_type": "markdown",
   "id": "9696e1be-6b1b-4e60-8447-98facf0ca982",
   "metadata": {},
   "source": [
    "#### Для начала посмотрим на данные и сделаем некоторые преобразования"
   ]
  },
  {
   "cell_type": "code",
   "execution_count": 44,
   "id": "a82f105e-917c-483a-9176-428083916976",
   "metadata": {},
   "outputs": [],
   "source": [
    "df = pd.read_csv('taxi_.csv')"
   ]
  },
  {
   "cell_type": "code",
   "execution_count": 45,
   "id": "f9ec2b7c-8732-4c33-ad66-d58337647ff0",
   "metadata": {},
   "outputs": [
    {
     "data": {
      "text/plain": [
       "(1231965, 20)"
      ]
     },
     "execution_count": 45,
     "metadata": {},
     "output_type": "execute_result"
    }
   ],
   "source": [
    "df.shape"
   ]
  },
  {
   "cell_type": "code",
   "execution_count": 46,
   "id": "40f5ad29-59f8-492c-a095-560d1c9d751b",
   "metadata": {},
   "outputs": [
    {
     "data": {
      "text/html": [
       "<div>\n",
       "<style scoped>\n",
       "    .dataframe tbody tr th:only-of-type {\n",
       "        vertical-align: middle;\n",
       "    }\n",
       "\n",
       "    .dataframe tbody tr th {\n",
       "        vertical-align: top;\n",
       "    }\n",
       "\n",
       "    .dataframe thead th {\n",
       "        text-align: right;\n",
       "    }\n",
       "</style>\n",
       "<table border=\"1\" class=\"dataframe\">\n",
       "  <thead>\n",
       "    <tr style=\"text-align: right;\">\n",
       "      <th></th>\n",
       "      <th>Unnamed: 0</th>\n",
       "      <th>VendorID</th>\n",
       "      <th>tpep_pickup_datetime</th>\n",
       "      <th>tpep_dropoff_datetime</th>\n",
       "      <th>passenger_count</th>\n",
       "      <th>trip_distance</th>\n",
       "      <th>RatecodeID</th>\n",
       "      <th>store_and_fwd_flag</th>\n",
       "      <th>PULocationID</th>\n",
       "      <th>DOLocationID</th>\n",
       "      <th>payment_type</th>\n",
       "      <th>fare_amount</th>\n",
       "      <th>extra</th>\n",
       "      <th>mta_tax</th>\n",
       "      <th>tip_amount</th>\n",
       "      <th>tolls_amount</th>\n",
       "      <th>improvement_surcharge</th>\n",
       "      <th>total_amount</th>\n",
       "      <th>congestion_surcharge</th>\n",
       "      <th>airport_fee</th>\n",
       "    </tr>\n",
       "  </thead>\n",
       "  <tbody>\n",
       "    <tr>\n",
       "      <th>0</th>\n",
       "      <td>0</td>\n",
       "      <td>1</td>\n",
       "      <td>2022-01-01 00:35:40</td>\n",
       "      <td>2022-01-01 00:53:29</td>\n",
       "      <td>2.0</td>\n",
       "      <td>3.80</td>\n",
       "      <td>1.0</td>\n",
       "      <td>N</td>\n",
       "      <td>142</td>\n",
       "      <td>236</td>\n",
       "      <td>1</td>\n",
       "      <td>14.5</td>\n",
       "      <td>3.0</td>\n",
       "      <td>0.5</td>\n",
       "      <td>3.65</td>\n",
       "      <td>0.0</td>\n",
       "      <td>0.3</td>\n",
       "      <td>21.95</td>\n",
       "      <td>2.5</td>\n",
       "      <td>0.0</td>\n",
       "    </tr>\n",
       "    <tr>\n",
       "      <th>1</th>\n",
       "      <td>1</td>\n",
       "      <td>1</td>\n",
       "      <td>2022-01-01 00:33:43</td>\n",
       "      <td>2022-01-01 00:42:07</td>\n",
       "      <td>1.0</td>\n",
       "      <td>2.10</td>\n",
       "      <td>1.0</td>\n",
       "      <td>N</td>\n",
       "      <td>236</td>\n",
       "      <td>42</td>\n",
       "      <td>1</td>\n",
       "      <td>8.0</td>\n",
       "      <td>0.5</td>\n",
       "      <td>0.5</td>\n",
       "      <td>4.00</td>\n",
       "      <td>0.0</td>\n",
       "      <td>0.3</td>\n",
       "      <td>13.30</td>\n",
       "      <td>0.0</td>\n",
       "      <td>0.0</td>\n",
       "    </tr>\n",
       "    <tr>\n",
       "      <th>2</th>\n",
       "      <td>2</td>\n",
       "      <td>2</td>\n",
       "      <td>2022-01-01 00:53:21</td>\n",
       "      <td>2022-01-01 01:02:19</td>\n",
       "      <td>1.0</td>\n",
       "      <td>0.97</td>\n",
       "      <td>1.0</td>\n",
       "      <td>N</td>\n",
       "      <td>166</td>\n",
       "      <td>166</td>\n",
       "      <td>1</td>\n",
       "      <td>7.5</td>\n",
       "      <td>0.5</td>\n",
       "      <td>0.5</td>\n",
       "      <td>1.76</td>\n",
       "      <td>0.0</td>\n",
       "      <td>0.3</td>\n",
       "      <td>10.56</td>\n",
       "      <td>0.0</td>\n",
       "      <td>0.0</td>\n",
       "    </tr>\n",
       "    <tr>\n",
       "      <th>3</th>\n",
       "      <td>3</td>\n",
       "      <td>2</td>\n",
       "      <td>2022-01-01 00:25:21</td>\n",
       "      <td>2022-01-01 00:35:23</td>\n",
       "      <td>1.0</td>\n",
       "      <td>1.09</td>\n",
       "      <td>1.0</td>\n",
       "      <td>N</td>\n",
       "      <td>114</td>\n",
       "      <td>68</td>\n",
       "      <td>2</td>\n",
       "      <td>8.0</td>\n",
       "      <td>0.5</td>\n",
       "      <td>0.5</td>\n",
       "      <td>0.00</td>\n",
       "      <td>0.0</td>\n",
       "      <td>0.3</td>\n",
       "      <td>11.80</td>\n",
       "      <td>2.5</td>\n",
       "      <td>0.0</td>\n",
       "    </tr>\n",
       "    <tr>\n",
       "      <th>4</th>\n",
       "      <td>4</td>\n",
       "      <td>2</td>\n",
       "      <td>2022-01-01 00:36:48</td>\n",
       "      <td>2022-01-01 01:14:20</td>\n",
       "      <td>1.0</td>\n",
       "      <td>4.30</td>\n",
       "      <td>1.0</td>\n",
       "      <td>N</td>\n",
       "      <td>68</td>\n",
       "      <td>163</td>\n",
       "      <td>1</td>\n",
       "      <td>23.5</td>\n",
       "      <td>0.5</td>\n",
       "      <td>0.5</td>\n",
       "      <td>3.00</td>\n",
       "      <td>0.0</td>\n",
       "      <td>0.3</td>\n",
       "      <td>30.30</td>\n",
       "      <td>2.5</td>\n",
       "      <td>0.0</td>\n",
       "    </tr>\n",
       "  </tbody>\n",
       "</table>\n",
       "</div>"
      ],
      "text/plain": [
       "   Unnamed: 0  VendorID tpep_pickup_datetime tpep_dropoff_datetime  \\\n",
       "0           0         1  2022-01-01 00:35:40   2022-01-01 00:53:29   \n",
       "1           1         1  2022-01-01 00:33:43   2022-01-01 00:42:07   \n",
       "2           2         2  2022-01-01 00:53:21   2022-01-01 01:02:19   \n",
       "3           3         2  2022-01-01 00:25:21   2022-01-01 00:35:23   \n",
       "4           4         2  2022-01-01 00:36:48   2022-01-01 01:14:20   \n",
       "\n",
       "   passenger_count  trip_distance  RatecodeID store_and_fwd_flag  \\\n",
       "0              2.0           3.80         1.0                  N   \n",
       "1              1.0           2.10         1.0                  N   \n",
       "2              1.0           0.97         1.0                  N   \n",
       "3              1.0           1.09         1.0                  N   \n",
       "4              1.0           4.30         1.0                  N   \n",
       "\n",
       "   PULocationID  DOLocationID  payment_type  fare_amount  extra  mta_tax  \\\n",
       "0           142           236             1         14.5    3.0      0.5   \n",
       "1           236            42             1          8.0    0.5      0.5   \n",
       "2           166           166             1          7.5    0.5      0.5   \n",
       "3           114            68             2          8.0    0.5      0.5   \n",
       "4            68           163             1         23.5    0.5      0.5   \n",
       "\n",
       "   tip_amount  tolls_amount  improvement_surcharge  total_amount  \\\n",
       "0        3.65           0.0                    0.3         21.95   \n",
       "1        4.00           0.0                    0.3         13.30   \n",
       "2        1.76           0.0                    0.3         10.56   \n",
       "3        0.00           0.0                    0.3         11.80   \n",
       "4        3.00           0.0                    0.3         30.30   \n",
       "\n",
       "   congestion_surcharge  airport_fee  \n",
       "0                   2.5          0.0  \n",
       "1                   0.0          0.0  \n",
       "2                   0.0          0.0  \n",
       "3                   2.5          0.0  \n",
       "4                   2.5          0.0  "
      ]
     },
     "execution_count": 46,
     "metadata": {},
     "output_type": "execute_result"
    }
   ],
   "source": [
    "df.head()"
   ]
  },
  {
   "cell_type": "code",
   "execution_count": 47,
   "id": "202c9ad0-d570-4532-a4ae-aded7edb44d0",
   "metadata": {},
   "outputs": [],
   "source": [
    "df = df.drop('Unnamed: 0', axis = 1)"
   ]
  },
  {
   "cell_type": "code",
   "execution_count": 48,
   "id": "d6b1bf50-7af5-48f1-8b42-0b44e2752f99",
   "metadata": {},
   "outputs": [
    {
     "data": {
      "text/plain": [
       "VendorID                      2\n",
       "tpep_pickup_datetime     741566\n",
       "tpep_dropoff_datetime    742008\n",
       "passenger_count              10\n",
       "trip_distance              3801\n",
       "RatecodeID                    7\n",
       "store_and_fwd_flag            2\n",
       "PULocationID                250\n",
       "DOLocationID                260\n",
       "payment_type                  5\n",
       "fare_amount                1248\n",
       "extra                        51\n",
       "mta_tax                       6\n",
       "tip_amount                 2547\n",
       "tolls_amount                351\n",
       "improvement_surcharge         3\n",
       "total_amount               7725\n",
       "congestion_surcharge          4\n",
       "airport_fee                   3\n",
       "dtype: int64"
      ]
     },
     "execution_count": 48,
     "metadata": {},
     "output_type": "execute_result"
    }
   ],
   "source": [
    "df.nunique()"
   ]
  },
  {
   "cell_type": "code",
   "execution_count": 49,
   "id": "3b3b5bd3-0fe0-4e48-b837-fdd0dfed3823",
   "metadata": {},
   "outputs": [
    {
     "data": {
      "text/plain": [
       "Index(['VendorID', 'tpep_pickup_datetime', 'tpep_dropoff_datetime',\n",
       "       'passenger_count', 'trip_distance', 'RatecodeID', 'store_and_fwd_flag',\n",
       "       'PULocationID', 'DOLocationID', 'payment_type', 'fare_amount', 'extra',\n",
       "       'mta_tax', 'tip_amount', 'tolls_amount', 'improvement_surcharge',\n",
       "       'total_amount', 'congestion_surcharge', 'airport_fee'],\n",
       "      dtype='object')"
      ]
     },
     "execution_count": 49,
     "metadata": {},
     "output_type": "execute_result"
    }
   ],
   "source": [
    "df.columns"
   ]
  },
  {
   "cell_type": "code",
   "execution_count": 50,
   "id": "313cd901-fd66-4924-9c3f-1262d6a6977b",
   "metadata": {},
   "outputs": [
    {
     "data": {
      "text/plain": [
       "array(['N', 'Y'], dtype=object)"
      ]
     },
     "execution_count": 50,
     "metadata": {},
     "output_type": "execute_result"
    }
   ],
   "source": [
    "df['store_and_fwd_flag'].unique()"
   ]
  },
  {
   "cell_type": "markdown",
   "id": "01dc4547-13e9-4fdb-9972-08f85c074cf4",
   "metadata": {},
   "source": [
    "#### Преобразуем даты в нужный формат и сократим количество колонок"
   ]
  },
  {
   "cell_type": "code",
   "execution_count": 51,
   "id": "e4117e7e-2482-47b1-85e1-7b30031c7c68",
   "metadata": {},
   "outputs": [],
   "source": [
    "df['tpep_pickup_datetime'] = pd.to_datetime(df['tpep_pickup_datetime'])"
   ]
  },
  {
   "cell_type": "code",
   "execution_count": 52,
   "id": "199fa029-d98a-4c61-bd76-a5c2dd1cc66a",
   "metadata": {},
   "outputs": [],
   "source": [
    "df['tpep_dropoff_datetime'] = pd.to_datetime(df['tpep_dropoff_datetime'])"
   ]
  },
  {
   "cell_type": "code",
   "execution_count": 53,
   "id": "0359d9eb-a4d6-4671-9710-5600dfe2ab56",
   "metadata": {},
   "outputs": [],
   "source": [
    "df['trip_duration'] = df['tpep_dropoff_datetime'] - df['tpep_pickup_datetime']"
   ]
  },
  {
   "cell_type": "code",
   "execution_count": 54,
   "id": "0575a74f-c177-4be8-9631-b0acb34e579a",
   "metadata": {},
   "outputs": [],
   "source": [
    "df['trip_duration'] = df['trip_duration'].dt.total_seconds()"
   ]
  },
  {
   "cell_type": "code",
   "execution_count": 55,
   "id": "c4d1b188-8278-4061-b6af-48eb6208369e",
   "metadata": {},
   "outputs": [
    {
     "data": {
      "text/html": [
       "<div>\n",
       "<style scoped>\n",
       "    .dataframe tbody tr th:only-of-type {\n",
       "        vertical-align: middle;\n",
       "    }\n",
       "\n",
       "    .dataframe tbody tr th {\n",
       "        vertical-align: top;\n",
       "    }\n",
       "\n",
       "    .dataframe thead th {\n",
       "        text-align: right;\n",
       "    }\n",
       "</style>\n",
       "<table border=\"1\" class=\"dataframe\">\n",
       "  <thead>\n",
       "    <tr style=\"text-align: right;\">\n",
       "      <th></th>\n",
       "      <th>VendorID</th>\n",
       "      <th>tpep_pickup_datetime</th>\n",
       "      <th>tpep_dropoff_datetime</th>\n",
       "      <th>passenger_count</th>\n",
       "      <th>trip_distance</th>\n",
       "      <th>RatecodeID</th>\n",
       "      <th>store_and_fwd_flag</th>\n",
       "      <th>PULocationID</th>\n",
       "      <th>DOLocationID</th>\n",
       "      <th>payment_type</th>\n",
       "      <th>fare_amount</th>\n",
       "      <th>extra</th>\n",
       "      <th>mta_tax</th>\n",
       "      <th>tip_amount</th>\n",
       "      <th>tolls_amount</th>\n",
       "      <th>improvement_surcharge</th>\n",
       "      <th>total_amount</th>\n",
       "      <th>congestion_surcharge</th>\n",
       "      <th>airport_fee</th>\n",
       "      <th>trip_duration</th>\n",
       "    </tr>\n",
       "  </thead>\n",
       "  <tbody>\n",
       "    <tr>\n",
       "      <th>0</th>\n",
       "      <td>1</td>\n",
       "      <td>2022-01-01 00:35:40</td>\n",
       "      <td>2022-01-01 00:53:29</td>\n",
       "      <td>2.0</td>\n",
       "      <td>3.80</td>\n",
       "      <td>1.0</td>\n",
       "      <td>N</td>\n",
       "      <td>142</td>\n",
       "      <td>236</td>\n",
       "      <td>1</td>\n",
       "      <td>14.5</td>\n",
       "      <td>3.0</td>\n",
       "      <td>0.5</td>\n",
       "      <td>3.65</td>\n",
       "      <td>0.0</td>\n",
       "      <td>0.3</td>\n",
       "      <td>21.95</td>\n",
       "      <td>2.5</td>\n",
       "      <td>0.0</td>\n",
       "      <td>1069.0</td>\n",
       "    </tr>\n",
       "    <tr>\n",
       "      <th>1</th>\n",
       "      <td>1</td>\n",
       "      <td>2022-01-01 00:33:43</td>\n",
       "      <td>2022-01-01 00:42:07</td>\n",
       "      <td>1.0</td>\n",
       "      <td>2.10</td>\n",
       "      <td>1.0</td>\n",
       "      <td>N</td>\n",
       "      <td>236</td>\n",
       "      <td>42</td>\n",
       "      <td>1</td>\n",
       "      <td>8.0</td>\n",
       "      <td>0.5</td>\n",
       "      <td>0.5</td>\n",
       "      <td>4.00</td>\n",
       "      <td>0.0</td>\n",
       "      <td>0.3</td>\n",
       "      <td>13.30</td>\n",
       "      <td>0.0</td>\n",
       "      <td>0.0</td>\n",
       "      <td>504.0</td>\n",
       "    </tr>\n",
       "    <tr>\n",
       "      <th>2</th>\n",
       "      <td>2</td>\n",
       "      <td>2022-01-01 00:53:21</td>\n",
       "      <td>2022-01-01 01:02:19</td>\n",
       "      <td>1.0</td>\n",
       "      <td>0.97</td>\n",
       "      <td>1.0</td>\n",
       "      <td>N</td>\n",
       "      <td>166</td>\n",
       "      <td>166</td>\n",
       "      <td>1</td>\n",
       "      <td>7.5</td>\n",
       "      <td>0.5</td>\n",
       "      <td>0.5</td>\n",
       "      <td>1.76</td>\n",
       "      <td>0.0</td>\n",
       "      <td>0.3</td>\n",
       "      <td>10.56</td>\n",
       "      <td>0.0</td>\n",
       "      <td>0.0</td>\n",
       "      <td>538.0</td>\n",
       "    </tr>\n",
       "    <tr>\n",
       "      <th>3</th>\n",
       "      <td>2</td>\n",
       "      <td>2022-01-01 00:25:21</td>\n",
       "      <td>2022-01-01 00:35:23</td>\n",
       "      <td>1.0</td>\n",
       "      <td>1.09</td>\n",
       "      <td>1.0</td>\n",
       "      <td>N</td>\n",
       "      <td>114</td>\n",
       "      <td>68</td>\n",
       "      <td>2</td>\n",
       "      <td>8.0</td>\n",
       "      <td>0.5</td>\n",
       "      <td>0.5</td>\n",
       "      <td>0.00</td>\n",
       "      <td>0.0</td>\n",
       "      <td>0.3</td>\n",
       "      <td>11.80</td>\n",
       "      <td>2.5</td>\n",
       "      <td>0.0</td>\n",
       "      <td>602.0</td>\n",
       "    </tr>\n",
       "    <tr>\n",
       "      <th>4</th>\n",
       "      <td>2</td>\n",
       "      <td>2022-01-01 00:36:48</td>\n",
       "      <td>2022-01-01 01:14:20</td>\n",
       "      <td>1.0</td>\n",
       "      <td>4.30</td>\n",
       "      <td>1.0</td>\n",
       "      <td>N</td>\n",
       "      <td>68</td>\n",
       "      <td>163</td>\n",
       "      <td>1</td>\n",
       "      <td>23.5</td>\n",
       "      <td>0.5</td>\n",
       "      <td>0.5</td>\n",
       "      <td>3.00</td>\n",
       "      <td>0.0</td>\n",
       "      <td>0.3</td>\n",
       "      <td>30.30</td>\n",
       "      <td>2.5</td>\n",
       "      <td>0.0</td>\n",
       "      <td>2252.0</td>\n",
       "    </tr>\n",
       "  </tbody>\n",
       "</table>\n",
       "</div>"
      ],
      "text/plain": [
       "   VendorID tpep_pickup_datetime tpep_dropoff_datetime  passenger_count  \\\n",
       "0         1  2022-01-01 00:35:40   2022-01-01 00:53:29              2.0   \n",
       "1         1  2022-01-01 00:33:43   2022-01-01 00:42:07              1.0   \n",
       "2         2  2022-01-01 00:53:21   2022-01-01 01:02:19              1.0   \n",
       "3         2  2022-01-01 00:25:21   2022-01-01 00:35:23              1.0   \n",
       "4         2  2022-01-01 00:36:48   2022-01-01 01:14:20              1.0   \n",
       "\n",
       "   trip_distance  RatecodeID store_and_fwd_flag  PULocationID  DOLocationID  \\\n",
       "0           3.80         1.0                  N           142           236   \n",
       "1           2.10         1.0                  N           236            42   \n",
       "2           0.97         1.0                  N           166           166   \n",
       "3           1.09         1.0                  N           114            68   \n",
       "4           4.30         1.0                  N            68           163   \n",
       "\n",
       "   payment_type  fare_amount  extra  mta_tax  tip_amount  tolls_amount  \\\n",
       "0             1         14.5    3.0      0.5        3.65           0.0   \n",
       "1             1          8.0    0.5      0.5        4.00           0.0   \n",
       "2             1          7.5    0.5      0.5        1.76           0.0   \n",
       "3             2          8.0    0.5      0.5        0.00           0.0   \n",
       "4             1         23.5    0.5      0.5        3.00           0.0   \n",
       "\n",
       "   improvement_surcharge  total_amount  congestion_surcharge  airport_fee  \\\n",
       "0                    0.3         21.95                   2.5          0.0   \n",
       "1                    0.3         13.30                   0.0          0.0   \n",
       "2                    0.3         10.56                   0.0          0.0   \n",
       "3                    0.3         11.80                   2.5          0.0   \n",
       "4                    0.3         30.30                   2.5          0.0   \n",
       "\n",
       "   trip_duration  \n",
       "0         1069.0  \n",
       "1          504.0  \n",
       "2          538.0  \n",
       "3          602.0  \n",
       "4         2252.0  "
      ]
     },
     "execution_count": 55,
     "metadata": {},
     "output_type": "execute_result"
    }
   ],
   "source": [
    "df.head()"
   ]
  },
  {
   "cell_type": "code",
   "execution_count": 56,
   "id": "8b9ce697-23f6-40de-958f-d6de8421c66e",
   "metadata": {},
   "outputs": [],
   "source": [
    "df = df.drop(['tpep_pickup_datetime', 'tpep_dropoff_datetime'], axis = 1)"
   ]
  },
  {
   "cell_type": "markdown",
   "id": "091951c4-90a7-4fdc-ba7d-ba477440f485",
   "metadata": {},
   "source": [
    "#### Посмотрим на пропуски и заполним их средним или самым популярным значением"
   ]
  },
  {
   "cell_type": "code",
   "execution_count": 57,
   "id": "cdc49756-a3a2-4e0f-8e4d-f2a86668fbd0",
   "metadata": {},
   "outputs": [
    {
     "data": {
      "text/plain": [
       "VendorID                 0\n",
       "passenger_count          0\n",
       "trip_distance            0\n",
       "RatecodeID               0\n",
       "store_and_fwd_flag       0\n",
       "PULocationID             0\n",
       "DOLocationID             0\n",
       "payment_type             0\n",
       "fare_amount              0\n",
       "extra                    0\n",
       "mta_tax                  0\n",
       "tip_amount               0\n",
       "tolls_amount             0\n",
       "improvement_surcharge    0\n",
       "total_amount             0\n",
       "congestion_surcharge     0\n",
       "airport_fee              0\n",
       "trip_duration            0\n",
       "dtype: int64"
      ]
     },
     "execution_count": 57,
     "metadata": {},
     "output_type": "execute_result"
    }
   ],
   "source": [
    "df.isna().sum()"
   ]
  },
  {
   "cell_type": "code",
   "execution_count": 58,
   "id": "b05705ab-db6b-4dd6-82b7-67e2de1e08be",
   "metadata": {},
   "outputs": [],
   "source": [
    "df['store_and_fwd_flag'] = df['store_and_fwd_flag'].fillna('N')"
   ]
  },
  {
   "cell_type": "code",
   "execution_count": 59,
   "id": "7e100f1f-adfd-4a11-ace8-2496220a9fc6",
   "metadata": {},
   "outputs": [],
   "source": [
    "ps_avg = df['passenger_count'].mean()"
   ]
  },
  {
   "cell_type": "code",
   "execution_count": 60,
   "id": "df302d58-b987-4196-b1b2-b9cccdfe095b",
   "metadata": {},
   "outputs": [],
   "source": [
    "df['passenger_count'] = df['passenger_count'].fillna(ps_avg)"
   ]
  },
  {
   "cell_type": "code",
   "execution_count": 61,
   "id": "c5bca397-cdb3-4411-bb3f-4848784e2272",
   "metadata": {},
   "outputs": [
    {
     "data": {
      "text/plain": [
       "1.3808736449493288"
      ]
     },
     "execution_count": 61,
     "metadata": {},
     "output_type": "execute_result"
    }
   ],
   "source": [
    "df['RatecodeID'].mean()"
   ]
  },
  {
   "cell_type": "code",
   "execution_count": 62,
   "id": "41296c0c-3627-459c-9367-7eaf7e685db3",
   "metadata": {},
   "outputs": [
    {
     "data": {
      "text/plain": [
       "RatecodeID\n",
       "6.0          10\n",
       "4.0        1653\n",
       "3.0        2484\n",
       "99.0       3969\n",
       "5.0        7714\n",
       "2.0       39428\n",
       "1.0     1176707\n",
       "dtype: int64"
      ]
     },
     "execution_count": 62,
     "metadata": {},
     "output_type": "execute_result"
    }
   ],
   "source": [
    "df.groupby('RatecodeID').size().sort_values()"
   ]
  },
  {
   "cell_type": "code",
   "execution_count": 63,
   "id": "83799ea1-c9a1-4433-945b-221e587255d6",
   "metadata": {},
   "outputs": [],
   "source": [
    "df['RatecodeID'] = df['RatecodeID'].fillna(1.0)"
   ]
  },
  {
   "cell_type": "code",
   "execution_count": 64,
   "id": "760b7664-7761-4e1c-a234-08314f219751",
   "metadata": {},
   "outputs": [],
   "source": [
    "df['congestion_surcharge'] = df['congestion_surcharge'].fillna(0.0)"
   ]
  },
  {
   "cell_type": "code",
   "execution_count": 65,
   "id": "0079b286-c39f-4972-b941-287bc5d3cc79",
   "metadata": {},
   "outputs": [],
   "source": [
    "df['airport_fee'] = df['airport_fee'].fillna(0.0)"
   ]
  },
  {
   "cell_type": "code",
   "execution_count": 66,
   "id": "3ca3df05-5a77-47a5-a8e9-ad7976714727",
   "metadata": {},
   "outputs": [
    {
     "data": {
      "text/plain": [
       "VendorID                 0\n",
       "passenger_count          0\n",
       "trip_distance            0\n",
       "RatecodeID               0\n",
       "store_and_fwd_flag       0\n",
       "PULocationID             0\n",
       "DOLocationID             0\n",
       "payment_type             0\n",
       "fare_amount              0\n",
       "extra                    0\n",
       "mta_tax                  0\n",
       "tip_amount               0\n",
       "tolls_amount             0\n",
       "improvement_surcharge    0\n",
       "total_amount             0\n",
       "congestion_surcharge     0\n",
       "airport_fee              0\n",
       "trip_duration            0\n",
       "dtype: int64"
      ]
     },
     "execution_count": 66,
     "metadata": {},
     "output_type": "execute_result"
    }
   ],
   "source": [
    "df.isna().sum()"
   ]
  },
  {
   "cell_type": "markdown",
   "id": "00bed66b-d275-4c23-9659-457c5f8f2c5b",
   "metadata": {},
   "source": [
    "#### Посмотрим на корелляцию признаков"
   ]
  },
  {
   "cell_type": "code",
   "execution_count": 67,
   "id": "19dd07c2-fd10-4094-be40-b13898db6882",
   "metadata": {},
   "outputs": [],
   "source": [
    "import seaborn as sns"
   ]
  },
  {
   "cell_type": "code",
   "execution_count": 68,
   "id": "70a9c65b-9369-4627-b8df-9bef866ff399",
   "metadata": {},
   "outputs": [],
   "source": [
    "df['store_and_fwd_flag'] = df['store_and_fwd_flag'].apply(lambda x: 0 if x == 'N' else 1)"
   ]
  },
  {
   "cell_type": "code",
   "execution_count": 69,
   "id": "8499d645-7b2c-4058-a8cf-296952349cc7",
   "metadata": {},
   "outputs": [
    {
     "data": {
      "text/plain": [
       "<Axes: >"
      ]
     },
     "execution_count": 69,
     "metadata": {},
     "output_type": "execute_result"
    },
    {
     "data": {
      "image/png": "[encoded data removed]",
      "text/plain": [
       "<Figure size 640x480 with 2 Axes>"
      ]
     },
     "metadata": {},
     "output_type": "display_data"
    }
   ],
   "source": [
    "corr = df.corr()\n",
    "sns.heatmap(corr)"
   ]
  },
  {
   "cell_type": "markdown",
   "id": "2898a63f-7cc3-48e6-8e83-4f3afa5eaa0e",
   "metadata": {},
   "source": [
    "#### Сильно скоррелированы чаевые и общая сумма. Не будем удалять столбец чаевые, так как он вносит большой вклад в таргет"
   ]
  },
  {
   "cell_type": "markdown",
   "id": "a043d1e7-f1e4-469f-b7ec-072300e16a25",
   "metadata": {},
   "source": [
    "#### Посмотрим на распределение таргета"
   ]
  },
  {
   "cell_type": "code",
   "execution_count": 70,
   "id": "3c82175b-f406-4af7-abc6-5d706fa31ac8",
   "metadata": {},
   "outputs": [],
   "source": [
    "Y = df['total_amount']"
   ]
  },
  {
   "cell_type": "code",
   "execution_count": 71,
   "id": "b6a044c1-e6b0-4004-8b56-8be9db635dd2",
   "metadata": {},
   "outputs": [],
   "source": [
    "X = df.drop('total_amount', axis = 1)"
   ]
  },
  {
   "cell_type": "code",
   "execution_count": 72,
   "id": "b467419e-ae78-4031-8c71-10b4025303a8",
   "metadata": {},
   "outputs": [
    {
     "data": {
      "text/plain": [
       "<Axes: >"
      ]
     },
     "execution_count": 72,
     "metadata": {},
     "output_type": "execute_result"
    },
    {
     "data": {
      "image/png": "[encoded data removed]",
      "text/plain": [
       "<Figure size 640x480 with 1 Axes>"
      ]
     },
     "metadata": {},
     "output_type": "display_data"
    }
   ],
   "source": [
    "Y.hist(bins = 50)"
   ]
  },
  {
   "cell_type": "markdown",
   "id": "2764e482-285c-4835-b81b-0ce9f9824910",
   "metadata": {},
   "source": [
    "#### Попробуем избавиться от выбросов, убрав по 0,3 % с каждой стороны распределения выборки"
   ]
  },
  {
   "cell_type": "code",
   "execution_count": 73,
   "id": "446b1062-b2a5-46c1-95c6-ee5bff4a43a9",
   "metadata": {},
   "outputs": [],
   "source": [
    "top995 = df['total_amount'].quantile(0.997)\n",
    "top005 = df['total_amount'].quantile(0.003)\n",
    "ta  = df[(df['total_amount'] > top005)&(df['total_amount'] < top995)]"
   ]
  },
  {
   "cell_type": "code",
   "execution_count": 74,
   "id": "8abb5c1d-a919-4158-8fe0-fee777acf74a",
   "metadata": {},
   "outputs": [
    {
     "data": {
      "text/plain": [
       "19.395154513318165"
      ]
     },
     "execution_count": 74,
     "metadata": {},
     "output_type": "execute_result"
    }
   ],
   "source": [
    "df['total_amount'].mean()"
   ]
  },
  {
   "cell_type": "code",
   "execution_count": 75,
   "id": "78469d76-11d4-4815-bc2b-b482e0846298",
   "metadata": {},
   "outputs": [
    {
     "data": {
      "text/plain": [
       "(1231965, 18)"
      ]
     },
     "execution_count": 75,
     "metadata": {},
     "output_type": "execute_result"
    }
   ],
   "source": [
    "df.shape"
   ]
  },
  {
   "cell_type": "code",
   "execution_count": 76,
   "id": "e466a3c9-c823-45e3-990a-73d0733db767",
   "metadata": {},
   "outputs": [
    {
     "data": {
      "text/plain": [
       "18.869909745434594"
      ]
     },
     "execution_count": 76,
     "metadata": {},
     "output_type": "execute_result"
    }
   ],
   "source": [
    "ta['total_amount'].mean()"
   ]
  },
  {
   "cell_type": "code",
   "execution_count": 77,
   "id": "d85864d7-c51e-4fb1-94d7-1466ec5192c6",
   "metadata": {},
   "outputs": [
    {
     "data": {
      "text/plain": [
       "(1224204, 18)"
      ]
     },
     "execution_count": 77,
     "metadata": {},
     "output_type": "execute_result"
    }
   ],
   "source": [
    "ta.shape"
   ]
  },
  {
   "cell_type": "code",
   "execution_count": 78,
   "id": "ea1317b1-6a15-4865-95af-4e50d9e8c4f0",
   "metadata": {},
   "outputs": [
    {
     "data": {
      "text/plain": [
       "<Axes: >"
      ]
     },
     "execution_count": 78,
     "metadata": {},
     "output_type": "execute_result"
    },
    {
     "data": {
      "image/png": "[encoded data removed]",
      "text/plain": [
       "<Figure size 2100x900 with 1 Axes>"
      ]
     },
     "metadata": {},
     "output_type": "display_data"
    }
   ],
   "source": [
    "fig = plt.figure()\n",
    "fig.set_size_inches(21, 9)\n",
    "ta['total_amount'].hist(bins = 50)"
   ]
  },
  {
   "cell_type": "markdown",
   "id": "06a2d5cb-0705-4367-93c2-9ba766b7a20f",
   "metadata": {},
   "source": [
    "#### Распределение стало иметь приличный вид"
   ]
  },
  {
   "cell_type": "markdown",
   "id": "a9e5fbab-993f-4626-9b67-84286b554df9",
   "metadata": {},
   "source": [
    "#### Построим модель линейной регрессии, применив нормировку данных"
   ]
  },
  {
   "cell_type": "code",
   "execution_count": 79,
   "id": "bdc610b5-5291-485f-afec-b524e2a8fe3d",
   "metadata": {},
   "outputs": [],
   "source": [
    "from sklearn.model_selection import train_test_split\n",
    "from sklearn.preprocessing import StandardScaler\n",
    "from sklearn.pipeline import Pipeline\n",
    "from sklearn.model_selection import cross_validate\n",
    "from sklearn.linear_model import LinearRegression\n",
    "from sklearn.model_selection import GridSearchCV\n",
    "\n",
    "X_train, X_test, Y_train, Y_test = train_test_split(X, Y, test_size = 0.25, shuffle = True, random_state = 47)\n",
    "pipe = Pipeline([('SS', StandardScaler()),\n",
    "                 ('LR', LinearRegression())\n",
    "                ])"
   ]
  },
  {
   "cell_type": "code",
   "execution_count": 80,
   "id": "e781613d-886c-4fa4-b2fe-55b79ff254e5",
   "metadata": {},
   "outputs": [
    {
     "name": "stdout",
     "output_type": "stream",
     "text": [
      "3.0425743081857094e-07\n"
     ]
    }
   ],
   "source": [
    "pipe.fit(X_train, Y_train)\n",
    "pred = pipe.predict(X_test)\n",
    "print(np.mean(pred - Y_test)**2)"
   ]
  },
  {
   "cell_type": "code",
   "execution_count": 81,
   "id": "2c6f515c-b293-4b5c-aa4c-1fc3daa1e780",
   "metadata": {},
   "outputs": [],
   "source": [
    "cv = cross_validate(LinearRegression(), X, Y, cv = 10)"
   ]
  },
  {
   "cell_type": "code",
   "execution_count": 82,
   "id": "7731af31-2e22-4139-b0a5-f75d8b45a112",
   "metadata": {},
   "outputs": [
    {
     "data": {
      "text/plain": [
       "0.9997845270230645"
      ]
     },
     "execution_count": 82,
     "metadata": {},
     "output_type": "execute_result"
    }
   ],
   "source": [
    "cv['test_score'].mean()"
   ]
  },
  {
   "cell_type": "markdown",
   "id": "ce77a746-3c5c-47f4-9a59-173abbb50dbe",
   "metadata": {},
   "source": [
    "#### Качество на тесте и кроссвалидации получилось отличным. Можно сделать вывод, что таргет зависит линейно от признаков, особенно, от чаевых. Они, в свою очередь зависят от настроения и комфорта пассажиров, на что нужно обратить больше всего внимания"
   ]
  },
  {
   "cell_type": "code",
   "execution_count": 83,
   "id": "de62c5b1-13b9-4b65-8caa-ca67de3bb725",
   "metadata": {},
   "outputs": [
    {
     "data": {
      "text/html": [
       "<div>\n",
       "<style scoped>\n",
       "    .dataframe tbody tr th:only-of-type {\n",
       "        vertical-align: middle;\n",
       "    }\n",
       "\n",
       "    .dataframe tbody tr th {\n",
       "        vertical-align: top;\n",
       "    }\n",
       "\n",
       "    .dataframe thead th {\n",
       "        text-align: right;\n",
       "    }\n",
       "</style>\n",
       "<table border=\"1\" class=\"dataframe\">\n",
       "  <thead>\n",
       "    <tr style=\"text-align: right;\">\n",
       "      <th></th>\n",
       "      <th>0</th>\n",
       "      <th>1</th>\n",
       "      <th>2</th>\n",
       "      <th>3</th>\n",
       "      <th>4</th>\n",
       "      <th>5</th>\n",
       "      <th>6</th>\n",
       "      <th>7</th>\n",
       "      <th>8</th>\n",
       "      <th>9</th>\n",
       "      <th>10</th>\n",
       "      <th>11</th>\n",
       "      <th>12</th>\n",
       "      <th>13</th>\n",
       "      <th>14</th>\n",
       "      <th>15</th>\n",
       "      <th>16</th>\n",
       "    </tr>\n",
       "  </thead>\n",
       "  <tbody>\n",
       "    <tr>\n",
       "      <th>0</th>\n",
       "      <td>VendorID</td>\n",
       "      <td>passenger_count</td>\n",
       "      <td>trip_distance</td>\n",
       "      <td>RatecodeID</td>\n",
       "      <td>store_and_fwd_flag</td>\n",
       "      <td>PULocationID</td>\n",
       "      <td>DOLocationID</td>\n",
       "      <td>payment_type</td>\n",
       "      <td>fare_amount</td>\n",
       "      <td>extra</td>\n",
       "      <td>mta_tax</td>\n",
       "      <td>tip_amount</td>\n",
       "      <td>tolls_amount</td>\n",
       "      <td>improvement_surcharge</td>\n",
       "      <td>congestion_surcharge</td>\n",
       "      <td>airport_fee</td>\n",
       "      <td>trip_duration</td>\n",
       "    </tr>\n",
       "    <tr>\n",
       "      <th>1</th>\n",
       "      <td>0.816913</td>\n",
       "      <td>-0.000682</td>\n",
       "      <td>-0.000212</td>\n",
       "      <td>0.06388</td>\n",
       "      <td>0.001144</td>\n",
       "      <td>-0.001855</td>\n",
       "      <td>-0.000609</td>\n",
       "      <td>-0.000331</td>\n",
       "      <td>417.451577</td>\n",
       "      <td>0.924385</td>\n",
       "      <td>0.109273</td>\n",
       "      <td>2.87277</td>\n",
       "      <td>1.775049</td>\n",
       "      <td>0.115925</td>\n",
       "      <td>0.588089</td>\n",
       "      <td>0.253549</td>\n",
       "      <td>0.000698</td>\n",
       "    </tr>\n",
       "  </tbody>\n",
       "</table>\n",
       "</div>"
      ],
      "text/plain": [
       "         0                1              2           3                   4   \\\n",
       "0  VendorID  passenger_count  trip_distance  RatecodeID  store_and_fwd_flag   \n",
       "1  0.816913        -0.000682      -0.000212     0.06388            0.001144   \n",
       "\n",
       "             5             6             7            8         9         10  \\\n",
       "0  PULocationID  DOLocationID  payment_type  fare_amount     extra   mta_tax   \n",
       "1     -0.001855     -0.000609     -0.000331   417.451577  0.924385  0.109273   \n",
       "\n",
       "           11            12                     13                    14  \\\n",
       "0  tip_amount  tolls_amount  improvement_surcharge  congestion_surcharge   \n",
       "1     2.87277      1.775049               0.115925              0.588089   \n",
       "\n",
       "            15             16  \n",
       "0  airport_fee  trip_duration  \n",
       "1     0.253549       0.000698  "
      ]
     },
     "execution_count": 83,
     "metadata": {},
     "output_type": "execute_result"
    }
   ],
   "source": [
    "params = pipe.named_steps['LR'].coef_\n",
    "cols = X.columns\n",
    "taxi_params = pd.DataFrame([X.columns, pipe.named_steps['LR'].coef_])\n",
    "taxi_params"
   ]
  }
 ],
 "metadata": {
  "kernelspec": {
   "display_name": "Python 3 (ipykernel)",
   "language": "python",
   "name": "python3"
  },
  "language_info": {
   "codemirror_mode": {
    "name": "ipython",
    "version": 3
   },
   "file_extension": ".py",
   "mimetype": "text/x-python",
   "name": "python",
   "nbconvert_exporter": "python",
   "pygments_lexer": "ipython3",
   "version": "3.12.2"
  }
 },
 "nbformat": 4,
 "nbformat_minor": 5
}
